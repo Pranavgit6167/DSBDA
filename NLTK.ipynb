{
 "cells": [
  {
   "cell_type": "code",
   "execution_count": 3,
   "id": "cad8f1bb-78ad-4210-ad9a-fd3d0c0a9668",
   "metadata": {},
   "outputs": [],
   "source": [
    "import nltk"
   ]
  },
  {
   "cell_type": "code",
   "execution_count": 4,
   "id": "9fa1a4eb-4622-4f61-ad16-7f620a07aae7",
   "metadata": {},
   "outputs": [],
   "source": [
    "from nltk.tokenize import word_tokenize"
   ]
  },
  {
   "cell_type": "code",
   "execution_count": 6,
   "id": "13e0adff-430c-4a5d-867d-177946250648",
   "metadata": {},
   "outputs": [],
   "source": [
    "from nltk.corpus import stopwords"
   ]
  },
  {
   "cell_type": "code",
   "execution_count": 8,
   "id": "2be2e331-e6f6-43ed-b9e1-10c8d8586cad",
   "metadata": {},
   "outputs": [],
   "source": [
    "from nltk import pos_tag"
   ]
  },
  {
   "cell_type": "code",
   "execution_count": 11,
   "id": "2e3ffed3-76f1-4eee-a281-ce747c509ce5",
   "metadata": {},
   "outputs": [
    {
     "name": "stderr",
     "output_type": "stream",
     "text": [
      "[nltk_data] Downloading package punkt to\n",
      "[nltk_data]     C:\\Users\\Pranav\\AppData\\Roaming\\nltk_data...\n",
      "[nltk_data]   Unzipping tokenizers\\punkt.zip.\n"
     ]
    },
    {
     "data": {
      "text/plain": [
       "True"
      ]
     },
     "execution_count": 11,
     "metadata": {},
     "output_type": "execute_result"
    }
   ],
   "source": [
    "nltk.download('punkt')"
   ]
  },
  {
   "cell_type": "code",
   "execution_count": 12,
   "id": "299b1e54-0a24-4b7b-a82d-c59ce64ac89d",
   "metadata": {},
   "outputs": [
    {
     "name": "stderr",
     "output_type": "stream",
     "text": [
      "[nltk_data] Downloading package averaged_perceptron_tagger to\n",
      "[nltk_data]     C:\\Users\\Pranav\\AppData\\Roaming\\nltk_data...\n",
      "[nltk_data]   Unzipping taggers\\averaged_perceptron_tagger.zip.\n"
     ]
    },
    {
     "data": {
      "text/plain": [
       "True"
      ]
     },
     "execution_count": 12,
     "metadata": {},
     "output_type": "execute_result"
    }
   ],
   "source": [
    "nltk.download('averaged_perceptron_tagger')"
   ]
  },
  {
   "cell_type": "code",
   "execution_count": 13,
   "id": "142ee6e5-4674-464d-a711-14d4903a0abc",
   "metadata": {},
   "outputs": [
    {
     "name": "stderr",
     "output_type": "stream",
     "text": [
      "[nltk_data] Downloading package stopwords to\n",
      "[nltk_data]     C:\\Users\\Pranav\\AppData\\Roaming\\nltk_data...\n",
      "[nltk_data]   Unzipping corpora\\stopwords.zip.\n"
     ]
    },
    {
     "data": {
      "text/plain": [
       "True"
      ]
     },
     "execution_count": 13,
     "metadata": {},
     "output_type": "execute_result"
    }
   ],
   "source": [
    "nltk.download('stopwords')"
   ]
  },
  {
   "cell_type": "code",
   "execution_count": 15,
   "id": "d5f791bc-8f73-4be7-a2b1-144de5ed4ec2",
   "metadata": {},
   "outputs": [],
   "source": [
    "text=\"Natural Language Processing is a subfield of linguistics, computer science, and artificial intelligence concerned with the interactions between computers and human language, in particular how to program computers to process and analyze large amounts of natural language data\""
   ]
  },
  {
   "cell_type": "code",
   "execution_count": 16,
   "id": "99802214-2ee0-4eac-a263-437bc3754623",
   "metadata": {},
   "outputs": [],
   "source": [
    "#tokenization\n",
    "tokens=word_tokenize(text)"
   ]
  },
  {
   "cell_type": "code",
   "execution_count": 17,
   "id": "8cc541d0-e23a-4f4d-a42e-33ec7bc89f97",
   "metadata": {},
   "outputs": [
    {
     "data": {
      "text/plain": [
       "['Natural',\n",
       " 'Language',\n",
       " 'Processing',\n",
       " 'is',\n",
       " 'a',\n",
       " 'subfield',\n",
       " 'of',\n",
       " 'linguistics',\n",
       " ',',\n",
       " 'computer',\n",
       " 'science',\n",
       " ',',\n",
       " 'and',\n",
       " 'artificial',\n",
       " 'intelligence',\n",
       " 'concerned',\n",
       " 'with',\n",
       " 'the',\n",
       " 'interactions',\n",
       " 'between',\n",
       " 'computers',\n",
       " 'and',\n",
       " 'human',\n",
       " 'language',\n",
       " ',',\n",
       " 'in',\n",
       " 'particular',\n",
       " 'how',\n",
       " 'to',\n",
       " 'program',\n",
       " 'computers',\n",
       " 'to',\n",
       " 'process',\n",
       " 'and',\n",
       " 'analyze',\n",
       " 'large',\n",
       " 'amounts',\n",
       " 'of',\n",
       " 'natural',\n",
       " 'language',\n",
       " 'data']"
      ]
     },
     "execution_count": 17,
     "metadata": {},
     "output_type": "execute_result"
    }
   ],
   "source": [
    "tokens"
   ]
  },
  {
   "cell_type": "code",
   "execution_count": 20,
   "id": "d9de38f3-a1f4-4ee3-b480-3c6557fe177d",
   "metadata": {},
   "outputs": [],
   "source": [
    "pos_tags=pos_tag(tokens)"
   ]
  },
  {
   "cell_type": "code",
   "execution_count": 21,
   "id": "eb9a9b4e-4812-4857-a7fb-3f856c8a84bb",
   "metadata": {},
   "outputs": [
    {
     "data": {
      "text/plain": [
       "[('Natural', 'JJ'),\n",
       " ('Language', 'NNP'),\n",
       " ('Processing', 'NNP'),\n",
       " ('is', 'VBZ'),\n",
       " ('a', 'DT'),\n",
       " ('subfield', 'NN'),\n",
       " ('of', 'IN'),\n",
       " ('linguistics', 'NNS'),\n",
       " (',', ','),\n",
       " ('computer', 'NN'),\n",
       " ('science', 'NN'),\n",
       " (',', ','),\n",
       " ('and', 'CC'),\n",
       " ('artificial', 'JJ'),\n",
       " ('intelligence', 'NN'),\n",
       " ('concerned', 'VBN'),\n",
       " ('with', 'IN'),\n",
       " ('the', 'DT'),\n",
       " ('interactions', 'NNS'),\n",
       " ('between', 'IN'),\n",
       " ('computers', 'NNS'),\n",
       " ('and', 'CC'),\n",
       " ('human', 'JJ'),\n",
       " ('language', 'NN'),\n",
       " (',', ','),\n",
       " ('in', 'IN'),\n",
       " ('particular', 'JJ'),\n",
       " ('how', 'WRB'),\n",
       " ('to', 'TO'),\n",
       " ('program', 'NN'),\n",
       " ('computers', 'NNS'),\n",
       " ('to', 'TO'),\n",
       " ('process', 'VB'),\n",
       " ('and', 'CC'),\n",
       " ('analyze', 'VB'),\n",
       " ('large', 'JJ'),\n",
       " ('amounts', 'NNS'),\n",
       " ('of', 'IN'),\n",
       " ('natural', 'JJ'),\n",
       " ('language', 'NN'),\n",
       " ('data', 'NNS')]"
      ]
     },
     "execution_count": 21,
     "metadata": {},
     "output_type": "execute_result"
    }
   ],
   "source": [
    "pos_tags"
   ]
  },
  {
   "cell_type": "code",
   "execution_count": 22,
   "id": "f81bb0a0-d3e1-40d7-9e42-fd8c65c3fc5b",
   "metadata": {},
   "outputs": [],
   "source": [
    "stop_word=set(stopwords.words('english'))"
   ]
  },
  {
   "cell_type": "code",
   "execution_count": 24,
   "id": "fc4193d3-2f81-42e4-b976-55c8275931aa",
   "metadata": {},
   "outputs": [],
   "source": [
    "filter_stopword=[word for word in tokens if word.lower() not in stop_word]"
   ]
  },
  {
   "cell_type": "code",
   "execution_count": 25,
   "id": "5922ccc6-174c-4653-8299-7e2434a5b25b",
   "metadata": {},
   "outputs": [
    {
     "data": {
      "text/plain": [
       "['Natural',\n",
       " 'Language',\n",
       " 'Processing',\n",
       " 'subfield',\n",
       " 'linguistics',\n",
       " ',',\n",
       " 'computer',\n",
       " 'science',\n",
       " ',',\n",
       " 'artificial',\n",
       " 'intelligence',\n",
       " 'concerned',\n",
       " 'interactions',\n",
       " 'computers',\n",
       " 'human',\n",
       " 'language',\n",
       " ',',\n",
       " 'particular',\n",
       " 'program',\n",
       " 'computers',\n",
       " 'process',\n",
       " 'analyze',\n",
       " 'large',\n",
       " 'amounts',\n",
       " 'natural',\n",
       " 'language',\n",
       " 'data']"
      ]
     },
     "execution_count": 25,
     "metadata": {},
     "output_type": "execute_result"
    }
   ],
   "source": [
    "filter_stopword"
   ]
  },
  {
   "cell_type": "code",
   "execution_count": 30,
   "id": "1e75b4db-fdc8-4ce7-a894-32440b670f0e",
   "metadata": {},
   "outputs": [
    {
     "name": "stderr",
     "output_type": "stream",
     "text": [
      "[nltk_data] Downloading package wordnet to\n",
      "[nltk_data]     C:\\Users\\Pranav\\AppData\\Roaming\\nltk_data...\n"
     ]
    },
    {
     "data": {
      "text/plain": [
       "True"
      ]
     },
     "execution_count": 30,
     "metadata": {},
     "output_type": "execute_result"
    }
   ],
   "source": [
    "nltk.download('wordnet')"
   ]
  },
  {
   "cell_type": "code",
   "execution_count": 31,
   "id": "45e97348-8e29-43f3-a332-026c8caaac34",
   "metadata": {},
   "outputs": [],
   "source": [
    "from nltk.stem import WordNetLemmatizer , PorterStemmer"
   ]
  },
  {
   "cell_type": "code",
   "execution_count": 32,
   "id": "4ea358aa-838d-4fc0-9e81-93ead7a49d51",
   "metadata": {},
   "outputs": [],
   "source": [
    "lem=WordNetLemmatizer()"
   ]
  },
  {
   "cell_type": "code",
   "execution_count": 33,
   "id": "186e82ac-d554-48ef-aeae-1948d9b8a775",
   "metadata": {},
   "outputs": [],
   "source": [
    "lemmatized_word=[lem.lemmatize(word) for word in filter_stopword]"
   ]
  },
  {
   "cell_type": "code",
   "execution_count": 34,
   "id": "35ca2b05-2268-40e2-bf82-69117dfecbee",
   "metadata": {},
   "outputs": [
    {
     "data": {
      "text/plain": [
       "['Natural',\n",
       " 'Language',\n",
       " 'Processing',\n",
       " 'subfield',\n",
       " 'linguistics',\n",
       " ',',\n",
       " 'computer',\n",
       " 'science',\n",
       " ',',\n",
       " 'artificial',\n",
       " 'intelligence',\n",
       " 'concerned',\n",
       " 'interaction',\n",
       " 'computer',\n",
       " 'human',\n",
       " 'language',\n",
       " ',',\n",
       " 'particular',\n",
       " 'program',\n",
       " 'computer',\n",
       " 'process',\n",
       " 'analyze',\n",
       " 'large',\n",
       " 'amount',\n",
       " 'natural',\n",
       " 'language',\n",
       " 'data']"
      ]
     },
     "execution_count": 34,
     "metadata": {},
     "output_type": "execute_result"
    }
   ],
   "source": [
    "lemmatized_word"
   ]
  },
  {
   "cell_type": "code",
   "execution_count": 36,
   "id": "340b9278-b391-44a7-84a3-0230afc04376",
   "metadata": {},
   "outputs": [],
   "source": [
    "stemmer=PorterStemmer()\n",
    "stem_word=[stemmer.stem(word) for word in filter_stopword]"
   ]
  },
  {
   "cell_type": "code",
   "execution_count": 37,
   "id": "889b2211-8a34-4c50-8205-203152236f32",
   "metadata": {},
   "outputs": [
    {
     "data": {
      "text/plain": [
       "['natur',\n",
       " 'languag',\n",
       " 'process',\n",
       " 'subfield',\n",
       " 'linguist',\n",
       " ',',\n",
       " 'comput',\n",
       " 'scienc',\n",
       " ',',\n",
       " 'artifici',\n",
       " 'intellig',\n",
       " 'concern',\n",
       " 'interact',\n",
       " 'comput',\n",
       " 'human',\n",
       " 'languag',\n",
       " ',',\n",
       " 'particular',\n",
       " 'program',\n",
       " 'comput',\n",
       " 'process',\n",
       " 'analyz',\n",
       " 'larg',\n",
       " 'amount',\n",
       " 'natur',\n",
       " 'languag',\n",
       " 'data']"
      ]
     },
     "execution_count": 37,
     "metadata": {},
     "output_type": "execute_result"
    }
   ],
   "source": [
    "stem_word"
   ]
  },
  {
   "cell_type": "code",
   "execution_count": null,
   "id": "62e0af32-6341-4b5a-8303-4a83f0f87011",
   "metadata": {},
   "outputs": [],
   "source": []
  }
 ],
 "metadata": {
  "kernelspec": {
   "display_name": "Python 3 (ipykernel)",
   "language": "python",
   "name": "python3"
  },
  "language_info": {
   "codemirror_mode": {
    "name": "ipython",
    "version": 3
   },
   "file_extension": ".py",
   "mimetype": "text/x-python",
   "name": "python",
   "nbconvert_exporter": "python",
   "pygments_lexer": "ipython3",
   "version": "3.11.5"
  }
 },
 "nbformat": 4,
 "nbformat_minor": 5
}
